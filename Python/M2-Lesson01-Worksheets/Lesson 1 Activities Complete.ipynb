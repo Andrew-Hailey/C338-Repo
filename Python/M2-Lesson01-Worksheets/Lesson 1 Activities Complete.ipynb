{
 "cells": [
  {
   "cell_type": "markdown",
   "metadata": {},
   "source": [
    "\n",
    "# Lesson 1 Activities\n",
    "\n",
    "The activities in this page are designed to test your ability to meet the objectives for Lesson 1, including:\n",
    "\n",
    "* Use lists to store data collections and retrieve specific values from a collection.\n",
    "* Use tuples to store data collections and retrieve values.\n",
    "\n",
    "Complete each activity as described and run the code to make sure it works as expected before starting the next activity."
   ]
  },
  {
   "cell_type": "markdown",
   "metadata": {},
   "source": [
    "## Activity 1\n",
    "\n",
    "Prompt the user to answer a series of 3-5 questions about themselves (such as their name, their age, their birthdate, or where they live) and save the answers in a list. Display the results to the user.\n",
    "\n",
    "**Tip**: Research the syntax required for a tuple with a single element."
   ]
  },
  {
   "cell_type": "code",
   "execution_count": 4,
   "metadata": {},
   "outputs": [
    {
     "name": "stdout",
     "output_type": "stream",
     "text": [
      "('What is your name? ', 'How old are you? ', 'When is your birthday? ', 'Where do you live? ')\n",
      "['Andrew', '22', '08/12/200', 'watford']\n"
     ]
    }
   ],
   "source": [
    "# your code here\n",
    "Questions = (\"What is your name? \", \"How old are you? \", \"When is your birthday? \", \"Where do you live? \")\n",
    "Answers = []\n",
    "for question in Questions:\n",
    "    Answers.append(input(str(question)))\n",
    "print(Questions)\n",
    "print(Answers)\n",
    "    "
   ]
  },
  {
   "cell_type": "markdown",
   "metadata": {},
   "source": [
    "## Activity 2\n",
    "\n",
    "Present the user with an existing list of items (such as the list created in the previous activity) and prompt the user for 2-4 more items to add to the list. Update the list with the new items and display the updated list."
   ]
  },
  {
   "cell_type": "code",
   "execution_count": 7,
   "metadata": {},
   "outputs": [
    {
     "name": "stdout",
     "output_type": "stream",
     "text": [
      "The current questions are ['What is your name? ', 'How old are you? ', 'When is your birthday? ', 'Where do you live? '].\n"
     ]
    },
    {
     "ename": "KeyboardInterrupt",
     "evalue": "Interrupted by user",
     "output_type": "error",
     "traceback": [
      "\u001b[1;31m---------------------------------------------------------------------------\u001b[0m",
      "\u001b[1;31mKeyboardInterrupt\u001b[0m                         Traceback (most recent call last)",
      "Cell \u001b[1;32mIn[7], line 6\u001b[0m\n\u001b[0;32m      4\u001b[0m \u001b[39mwhile\u001b[39;00m (\u001b[39mlen\u001b[39m(Questions) \u001b[39m<\u001b[39m DesiredLength):\n\u001b[0;32m      5\u001b[0m     \u001b[39mprint\u001b[39m(\u001b[39m\"\u001b[39m\u001b[39mThe current questions are \u001b[39m\u001b[39m\"\u001b[39m\u001b[39m+\u001b[39m\u001b[39mstr\u001b[39m(Questions)\u001b[39m+\u001b[39m\u001b[39m\"\u001b[39m\u001b[39m.\u001b[39m\u001b[39m\"\u001b[39m)\n\u001b[1;32m----> 6\u001b[0m     Questions\u001b[39m.\u001b[39mappend(\u001b[39minput\u001b[39;49m(\u001b[39m\"\u001b[39;49m\u001b[39mAdd another question: \u001b[39;49m\u001b[39m\"\u001b[39;49m))\n\u001b[0;32m      7\u001b[0m     \u001b[39mprint\u001b[39m(\u001b[39m\"\u001b[39m\u001b[39mThanks, we now have \u001b[39m\u001b[39m\"\u001b[39m\u001b[39m+\u001b[39m\u001b[39mstr\u001b[39m(\u001b[39mlen\u001b[39m(Questions))\u001b[39m+\u001b[39m\u001b[39m\"\u001b[39m\u001b[39m questions out of \u001b[39m\u001b[39m\"\u001b[39m\u001b[39m+\u001b[39m\u001b[39mstr\u001b[39m(DesiredLength)\u001b[39m+\u001b[39m\u001b[39m\"\u001b[39m\u001b[39m questions\u001b[39m\u001b[39m\"\u001b[39m)\n\u001b[0;32m      8\u001b[0m \u001b[39mprint\u001b[39m(Questions)\n",
      "File \u001b[1;32m~\\AppData\\Roaming\\Python\\Python311\\site-packages\\ipykernel\\kernelbase.py:1191\u001b[0m, in \u001b[0;36mKernel.raw_input\u001b[1;34m(self, prompt)\u001b[0m\n\u001b[0;32m   1189\u001b[0m     msg \u001b[39m=\u001b[39m \u001b[39m\"\u001b[39m\u001b[39mraw_input was called, but this frontend does not support input requests.\u001b[39m\u001b[39m\"\u001b[39m\n\u001b[0;32m   1190\u001b[0m     \u001b[39mraise\u001b[39;00m StdinNotImplementedError(msg)\n\u001b[1;32m-> 1191\u001b[0m \u001b[39mreturn\u001b[39;00m \u001b[39mself\u001b[39;49m\u001b[39m.\u001b[39;49m_input_request(\n\u001b[0;32m   1192\u001b[0m     \u001b[39mstr\u001b[39;49m(prompt),\n\u001b[0;32m   1193\u001b[0m     \u001b[39mself\u001b[39;49m\u001b[39m.\u001b[39;49m_parent_ident[\u001b[39m\"\u001b[39;49m\u001b[39mshell\u001b[39;49m\u001b[39m\"\u001b[39;49m],\n\u001b[0;32m   1194\u001b[0m     \u001b[39mself\u001b[39;49m\u001b[39m.\u001b[39;49mget_parent(\u001b[39m\"\u001b[39;49m\u001b[39mshell\u001b[39;49m\u001b[39m\"\u001b[39;49m),\n\u001b[0;32m   1195\u001b[0m     password\u001b[39m=\u001b[39;49m\u001b[39mFalse\u001b[39;49;00m,\n\u001b[0;32m   1196\u001b[0m )\n",
      "File \u001b[1;32m~\\AppData\\Roaming\\Python\\Python311\\site-packages\\ipykernel\\kernelbase.py:1234\u001b[0m, in \u001b[0;36mKernel._input_request\u001b[1;34m(self, prompt, ident, parent, password)\u001b[0m\n\u001b[0;32m   1231\u001b[0m \u001b[39mexcept\u001b[39;00m \u001b[39mKeyboardInterrupt\u001b[39;00m:\n\u001b[0;32m   1232\u001b[0m     \u001b[39m# re-raise KeyboardInterrupt, to truncate traceback\u001b[39;00m\n\u001b[0;32m   1233\u001b[0m     msg \u001b[39m=\u001b[39m \u001b[39m\"\u001b[39m\u001b[39mInterrupted by user\u001b[39m\u001b[39m\"\u001b[39m\n\u001b[1;32m-> 1234\u001b[0m     \u001b[39mraise\u001b[39;00m \u001b[39mKeyboardInterrupt\u001b[39;00m(msg) \u001b[39mfrom\u001b[39;00m \u001b[39mNone\u001b[39m\n\u001b[0;32m   1235\u001b[0m \u001b[39mexcept\u001b[39;00m \u001b[39mException\u001b[39;00m:\n\u001b[0;32m   1236\u001b[0m     \u001b[39mself\u001b[39m\u001b[39m.\u001b[39mlog\u001b[39m.\u001b[39mwarning(\u001b[39m\"\u001b[39m\u001b[39mInvalid Message:\u001b[39m\u001b[39m\"\u001b[39m, exc_info\u001b[39m=\u001b[39m\u001b[39mTrue\u001b[39;00m)\n",
      "\u001b[1;31mKeyboardInterrupt\u001b[0m: Interrupted by user"
     ]
    }
   ],
   "source": [
    "# your code here\n",
    "DesiredLength = 6\n",
    "Questions = [\"What is your name? \", \"How old are you? \", \"When is your birthday? \", \"Where do you live? \"]\n",
    "while (len(Questions) < DesiredLength):\n",
    "    print(\"The current questions are \"+str(Questions)+\".\")\n",
    "    Questions.append(input(\"Add another question: \"))\n",
    "    print(\"Thanks, we now have \"+str(len(Questions))+\" questions out of \"+str(DesiredLength)+\" questions\")\n",
    "print(Questions)\n",
    "    \n"
   ]
  },
  {
   "cell_type": "markdown",
   "metadata": {},
   "source": [
    "## Activity 3\n",
    "\n",
    "Present the user with a list of 7-9 items (such as the list created in the previous activities) and prompt them to enter one item to delete from the list. Delete the named item from the list and display the updated list."
   ]
  },
  {
   "cell_type": "code",
   "execution_count": 10,
   "metadata": {},
   "outputs": [
    {
     "name": "stdout",
     "output_type": "stream",
     "text": [
      "['Haythem', 'Mike', 'Layla', 'Livia', 'Leelo', 'Michael', 'Jesse', 'Heather']\n",
      "['Haythem', 'Mike', 'Livia', 'Leelo', 'Michael', 'Jesse', 'Heather']\n"
     ]
    }
   ],
   "source": [
    "# your code here\n",
    "input_list = [\"Haythem\", \"Mike\", \"Layla\", \"Livia\", \"Leelo\", \"Michael\", \"Jesse\", \"Heather\"]\n",
    "print(input_list)\n",
    "input_list.remove(input(\"remove one of the above from the list: \"))\n",
    "print(input_list)\n"
   ]
  },
  {
   "cell_type": "markdown",
   "metadata": {},
   "source": [
    "## Activity 4\n",
    "\n",
    "Present the user with a list of 7-9 items (such as the list created in the previous activities) and prompt them to select one item from the list to update, along with the new value for that item. Change the item's value and display the new list to the user.\n",
    "\n",
    "**Tip**: You will need to know how to find the index value for a specific value to complete this activity."
   ]
  },
  {
   "cell_type": "code",
   "execution_count": 12,
   "metadata": {},
   "outputs": [
    {
     "name": "stdout",
     "output_type": "stream",
     "text": [
      "['Haythem', 'Mike', 'Layla', 'Livia', 'Leelo', 'Michael', 'Jesse', 'Heather']\n",
      "['Haythem', 'Jeff', 'Layla', 'Livia', 'Leelo', 'Michael', 'Jesse', 'Heather']\n"
     ]
    }
   ],
   "source": [
    "# your code here\n",
    "input_list = [\"Haythem\", \"Mike\", \"Layla\", \"Livia\", \"Leelo\", \"Michael\", \"Jesse\", \"Heather\"]\n",
    "print(input_list)\n",
    "Index = input_list.index(input(\"What name of the above would you like to update? \"))\n",
    "UI1 = input(\"What would you like to update it with? \")\n",
    "input_list[Index] = UI1\n",
    "print(input_list)"
   ]
  },
  {
   "cell_type": "markdown",
   "metadata": {},
   "source": [
    "## Activity 5\n",
    "\n",
    "Create four tuples:\n",
    "\n",
    "* One tuple with a person's first name and last name\n",
    "* A second tuple with the person's current profession\n",
    "* A third tuple with the person's current address\n",
    "* A fourth tuple with the person's previous address\n",
    "\n",
    "Combine all tuples into a new, single tuple that contains all items from the original tuples."
   ]
  },
  {
   "cell_type": "code",
   "execution_count": 14,
   "metadata": {},
   "outputs": [
    {
     "name": "stdout",
     "output_type": "stream",
     "text": [
      "('Andrew', 'Hailey', 'IT Guy', '100 Gaddesden Crescent', '56 Gaddesden Crescent')\n"
     ]
    }
   ],
   "source": [
    "# your code here\n",
    "Names = (\"Andrew\",\"Hailey\")\n",
    "Profession = (\"IT Guy\",)\n",
    "Address = (\"100 Gaddesden Crescent\",)\n",
    "PrevAddress = (\"56 Gaddesden Crescent\",)\n",
    "\n",
    "CombinedTuple = Names + Profession + Address + PrevAddress\n",
    "print(CombinedTuple)"
   ]
  },
  {
   "cell_type": "markdown",
   "metadata": {},
   "source": [
    "## Activity 6\n",
    "\n",
    "Using the final tuple from the previous activity, write a program that performs the following steps:\n",
    "\n",
    "* Display the tuple to the user.\n",
    "* Prompt the user to enter a value that should be changed.\n",
    "* Prompt the user to enter the updated value for that item.\n",
    "* Update the value and display the updated tuple to the user.\n",
    "\n",
    "**Tip**: You cannot update the contents of a tuple, but you can update the contents of a list."
   ]
  },
  {
   "cell_type": "code",
   "execution_count": 15,
   "metadata": {},
   "outputs": [
    {
     "name": "stdout",
     "output_type": "stream",
     "text": [
      "('Andrew', 'Hailey', 'IT Guy', '100 Gaddesden Crescent', '56 Gaddesden Crescent')\n",
      "['Andrew', 'Jeff', 'IT Guy', '100 Gaddesden Crescent', '56 Gaddesden Crescent']\n"
     ]
    }
   ],
   "source": [
    "# your code here\n",
    "Names = (\"Andrew\",\"Hailey\")\n",
    "Profession = (\"IT Guy\",)\n",
    "Address = (\"100 Gaddesden Crescent\",)\n",
    "PrevAddress = (\"56 Gaddesden Crescent\",)\n",
    "\n",
    "CombinedTuple = Names + Profession + Address + PrevAddress\n",
    "print(CombinedTuple)\n",
    "CombinedIndex = []\n",
    "Index = CombinedTuple.index(input(\"What name of the above would you like to update? \"))\n",
    "UI1 = input(\"What would you like to update it with? \")\n",
    "\n",
    "for each in CombinedTuple:\n",
    "    CombinedIndex.append(each)\n",
    "CombinedIndex[Index] = UI1\n",
    "print(CombinedIndex)\n"
   ]
  }
 ],
 "metadata": {
  "kernelspec": {
   "display_name": "Python 3",
   "language": "python",
   "name": "python3"
  },
  "language_info": {
   "codemirror_mode": {
    "name": "ipython",
    "version": 3
   },
   "file_extension": ".py",
   "mimetype": "text/x-python",
   "name": "python",
   "nbconvert_exporter": "python",
   "pygments_lexer": "ipython3",
   "version": "3.11.2"
  }
 },
 "nbformat": 4,
 "nbformat_minor": 2
}
