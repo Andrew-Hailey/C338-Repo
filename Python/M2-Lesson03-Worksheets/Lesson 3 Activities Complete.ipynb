{
 "cells": [
  {
   "cell_type": "markdown",
   "metadata": {},
   "source": [
    "# Lesson 3 Activities\n",
    "The activities in this page allow you to demonstrate your ability to:\n",
    "* Store, retrieve, and manipulate a data collection using a dictionary with defined index values.\n",
    "* Store, retrieve, and manipulate data in a set.\n"
   ]
  },
  {
   "cell_type": "markdown",
   "metadata": {},
   "source": [
    "## Activity 1\n",
    "Create a program that sums all the values in a dictionary and displays them.\n",
    "\n",
    "For example:\n",
    "\n",
    "    dictionary = {\"hello\":4,\"world\":4,\"I\":1,\"am\":2,\"Martha\":3}\n",
    "\n",
    "output: `14` (the result of 4 + 4 + 1 + 2 + 3)"
   ]
  },
  {
   "cell_type": "code",
   "execution_count": 5,
   "metadata": {},
   "outputs": [
    {
     "name": "stdout",
     "output_type": "stream",
     "text": [
      "14\n"
     ]
    }
   ],
   "source": [
    "# your code here\n",
    "dictionary = {\"hello\":4,\"world\":4,\"I\":1,\"am\":2,\"Martha\":3}\n",
    "print(sum(dictionary.values()))"
   ]
  },
  {
   "cell_type": "markdown",
   "metadata": {},
   "source": [
    "## Activity 2\n",
    "Write a program that displays the maximum and minimum values in a dictionary. You may use the same dictionary you used in the previous activity or create a new one."
   ]
  },
  {
   "cell_type": "code",
   "execution_count": 6,
   "metadata": {},
   "outputs": [
    {
     "name": "stdout",
     "output_type": "stream",
     "text": [
      "4\n",
      "1\n"
     ]
    }
   ],
   "source": [
    "# your code here\n",
    "dictionary = {\"hello\":4,\"world\":4,\"I\":1,\"am\":2,\"Martha\":3}\n",
    "print(max(dictionary.values()))\n",
    "print(min(dictionary.values()))"
   ]
  },
  {
   "cell_type": "markdown",
   "metadata": {},
   "source": [
    "## Activity 3\n",
    "Write a program that returns the sum of the integer elements in a set."
   ]
  },
  {
   "cell_type": "code",
   "execution_count": 10,
   "metadata": {},
   "outputs": [
    {
     "name": "stdout",
     "output_type": "stream",
     "text": [
      "14\n"
     ]
    }
   ],
   "source": [
    "# your code here\n",
    "dictionary = {\"hello\":4,\"world\":4,\"I\":1,\"am\":2,\"Martha\":3,\"Jeff\":4.55665}\n",
    "Sum = 0\n",
    "for i in dictionary.values():\n",
    "    if type(i) == int:\n",
    "        Sum = Sum + i\n",
    "print(Sum)"
   ]
  },
  {
   "cell_type": "markdown",
   "metadata": {},
   "source": [
    "## Activity 4\n",
    "Write a program that computes and displays the maximum and the minimum values in a set."
   ]
  },
  {
   "cell_type": "code",
   "execution_count": 1,
   "metadata": {},
   "outputs": [
    {
     "name": "stdout",
     "output_type": "stream",
     "text": [
      "4\n",
      "1\n"
     ]
    }
   ],
   "source": [
    "# your code here\n",
    "dictionary = {\"hello\":4,\"world\":4,\"I\":1,\"am\":2,\"Martha\":3}\n",
    "print(max(dictionary.values()))\n",
    "print(min(dictionary.values()))"
   ]
  },
  {
   "cell_type": "markdown",
   "metadata": {},
   "source": [
    "## Activity 5\n",
    "Given the following dictionary `storage`, complete the following tasks:\n",
    "* Add a key named \"freezer\".\n",
    "* Set the value of \"freezer\" to be a list containing the items \"ice cubes\", \"ice cream\", and \"pepperoni pizza\".\n",
    "* Sort the items in the cupboard using `sort`.\n",
    "* Add \"cream\" to the fridge.\n",
    "* Remove \"sugar\" from the cupboard.\n",
    "* Subtract $25 from the emergency jar."
   ]
  },
  {
   "cell_type": "code",
   "execution_count": 10,
   "metadata": {},
   "outputs": [
    {
     "name": "stdout",
     "output_type": "stream",
     "text": [
      "{'cupboard': ['spices', 'flour'], 'drawer': ['fork', 'knife', 'spoon'], 'emergency jar': 125, 'freezer': ['ice cubes', 'ice cream', 'pepperoni pizza'], 'fridge': ['butter', 'milk', 'cheese', 'cream']}\n"
     ]
    }
   ],
   "source": [
    "storage = {\n",
    "    \"cupboard\" : [\"spices\", \"flour\", \"sugar\"],\n",
    "    \"drawer\" : [\"fork\", \"knife\", \"spoon\"],\n",
    "    \"fridge\" : [\"butter\", \"milk\", \"cheese\"],\n",
    "    \"emergency jar\" : 150\n",
    "}\n",
    "\n",
    "# your code here\n",
    "\n",
    "storage.update({\"freezer\" : [\"ice cubes\", \"ice cream\",\"pepperoni pizza\"]})\n",
    "storage = dict(sorted(storage.items()))\n",
    "storage[\"fridge\"].append(\"cream\")\n",
    "storage[\"cupboard\"].remove(\"sugar\")\n",
    "storage[\"emergency jar\"] -= 25\n",
    "print(storage)\n",
    "\n"
   ]
  },
  {
   "attachments": {},
   "cell_type": "markdown",
   "metadata": {},
   "source": [
    "## Activity 6\n",
    "Create a new dictionary named `shopping_list` and add the following items to the dictionary:\n",
    "\n",
    "<pre>\"milk\" : 4,\n",
    "\"butter\" : 2,\n",
    "\"crackers\" : 1.5,\n",
    "\"rice\" : 2.25,\n",
    "\"spaghetti\" : 1.75,\n",
    "\"dish soap\": 3.25</pre>\n",
    "    \n",
    "Loop through each item in the list and print out each key with its price. Print the answer in this format:\n",
    "\n",
    "<pre>milk\n",
    "price: 4</pre>\n",
    "   \n",
    "Next, calculate how much it will cost if you purchase all the items on the list.\n",
    "* Use a variable named `total_cost` to store the calculated value.\n",
    "* Loop through the dictionary and add the price of each item to the total cost.\n",
    "* After looping through the dictionary, print out the total cost in a message that is meaningful to the user."
   ]
  },
  {
   "cell_type": "code",
   "execution_count": 17,
   "metadata": {},
   "outputs": [
    {
     "name": "stdout",
     "output_type": "stream",
     "text": [
      "milk\n",
      "Price: $4\n",
      "butter\n",
      "Price: $2\n",
      "crackers\n",
      "Price: $1.5\n",
      "rice\n",
      "Price: $2.25\n",
      "spaghetti\n",
      "Price: $1.75\n",
      "dish soap\n",
      "Price: $3.25\n",
      "To buy all items in the shopping list it will cost: $13\n"
     ]
    }
   ],
   "source": [
    "# your code here\n",
    "ShoppingList = {\"milk\" : 4,\n",
    "\"butter\" : 2,\n",
    "\"crackers\" : 1.5,\n",
    "\"rice\" : 2.25,\n",
    "\"spaghetti\" : 1.75,\n",
    "\"dish soap\": 3.25\n",
    "}\n",
    "total_cost = 0\n",
    "\n",
    "for each in ShoppingList.keys():\n",
    "    print(each)\n",
    "    print(\"Price: $\"+str(ShoppingList[each]))\n",
    "    total_cost += int(ShoppingList[each])\n",
    "print(\"To buy all items in the shopping list it will cost: $\"+str(total_cost))\n",
    "    "
   ]
  },
  {
   "cell_type": "markdown",
   "metadata": {},
   "source": [
    "## Activity 7\n",
    "Create two dictionaries: `price` and `quantity`.\n",
    "* The `price` dictionary should be the same as the `shopping_list` dictionary in the previous activity:\n",
    "    \n",
    "<pre>\"milk\" : 4,\n",
    "\"butter\" : 2,\n",
    "\"crackers\" : 1.5,\n",
    "\"rice\" : 2.25,\n",
    "\"spaghetti\" : 1.75,\n",
    "\"dish soap\": 3.25</pre>\n",
    "\n",
    "* The `quantity` dictionary should have the same keys, but with values that represent the number of items to purchase rather than the price:\n",
    "    \n",
    "<pre>\"milk\" : 1,\n",
    "\"butter\" : 1,\n",
    "\"crackers\" : 3,\n",
    "\"rice\" : 2,\n",
    "\"spaghetti\" : 5,\n",
    "\"dish soap\": 1</pre>\n",
    "\n",
    "Write a script that loops through both dictionaries to calculate the total cost if we purchase the indicated quantity of each item in the dictionaries."
   ]
  },
  {
   "cell_type": "code",
   "execution_count": 21,
   "metadata": {},
   "outputs": [
    {
     "name": "stdout",
     "output_type": "stream",
     "text": [
      "The cost of 1 milk is $4 where each item cost is $4\n",
      "The cost of 1 butter is $2 where each item cost is $2\n",
      "The cost of 3 crackers is $4.5 where each item cost is $1.5\n",
      "The cost of 2 rice is $4.5 where each item cost is $2.25\n",
      "The cost of 5 spaghetti is $8.75 where each item cost is $1.75\n",
      "The cost of 1 dish soap is $3.25 where each item cost is $3.25\n",
      "To buy all items it would cost $40.0\n"
     ]
    }
   ],
   "source": [
    "# your code here\n",
    "price = {\"milk\" : 4,\n",
    "\"butter\" : 2,\n",
    "\"crackers\" : 1.5,\n",
    "\"rice\" : 2.25,\n",
    "\"spaghetti\" : 1.75,\n",
    "\"dish soap\": 3.25}\n",
    "\n",
    "quantity = {\"milk\" : 1,\n",
    "\"butter\" : 1,\n",
    "\"crackers\" : 3,\n",
    "\"rice\" : 2,\n",
    "\"spaghetti\" : 5,\n",
    "\"dish soap\": 1}\n",
    "\n",
    "for each in price.keys():\n",
    "    cost = price[each] * quantity[each]\n",
    "    total_cost += cost\n",
    "    print(\"The cost of \"+str(quantity[each])+\" \"+each+\" is $\"+str(cost)+ \" where each item cost is $\"+str(price[each]))\n",
    "print(\"To buy all items it would cost $\"+str(total_cost))"
   ]
  }
 ],
 "metadata": {
  "kernelspec": {
   "display_name": "Python 3",
   "language": "python",
   "name": "python3"
  },
  "language_info": {
   "codemirror_mode": {
    "name": "ipython",
    "version": 3
   },
   "file_extension": ".py",
   "mimetype": "text/x-python",
   "name": "python",
   "nbconvert_exporter": "python",
   "pygments_lexer": "ipython3",
   "version": "3.11.2"
  }
 },
 "nbformat": 4,
 "nbformat_minor": 2
}
