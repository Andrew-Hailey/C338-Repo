{
 "cells": [
  {
   "cell_type": "markdown",
   "metadata": {},
   "source": [
    "# Module 1 - Lesson 2 Activities\n",
    "The activities here will give you the opportunity to practice the skills and tools presented in Lesson 2, with the following objectives:\n",
    "1. Demonstrate the use of a variety of data types in Python, including numbers, booleans, and strings.\n",
    "1. Distinguish between float values, integers, and complex numbers.\n",
    "1. Use Python to perform operations using numbers.\n",
    "1. Use Python to perform logic operations using booleans.\n",
    "1. Use Python to manipulate string values.\n",
    "\n",
    "Software development skills build on each other, so many of the activities here will also require skills and tools presented in earlier lessons."
   ]
  },
  {
   "cell_type": "markdown",
   "metadata": {},
   "source": [
    "## Activity 1\n",
    "Create a program that prompts the user to enter a number and then displays the type of the number entered (e.g., complex, integer, or float). \n",
    "\n",
    "For example, if the user enters `6`, the output should be `int` (for integer). "
   ]
  },
  {
   "cell_type": "code",
   "execution_count": 5,
   "metadata": {},
   "outputs": [
    {
     "name": "stdout",
     "output_type": "stream",
     "text": [
      "<class 'int'>\n"
     ]
    }
   ],
   "source": [
    "# your code here\n",
    "a = int(input(\"Input a number\"))\n",
    "print(type(a))"
   ]
  },
  {
   "cell_type": "markdown",
   "metadata": {},
   "source": [
    "## Activity 2\n",
    "Update the code below so that the result is equal to 576. Do not change any of the existing values or operators or the order in which they appear."
   ]
  },
  {
   "cell_type": "code",
   "execution_count": 11,
   "metadata": {},
   "outputs": [
    {
     "name": "stdout",
     "output_type": "stream",
     "text": [
      "576\n"
     ]
    }
   ],
   "source": [
    "# do not change the order in which the numbers and operators appear in the next line\n",
    "result = (5 + 3) ** 2 * 9\n",
    "\n",
    "print(result) # the output should be 576"
   ]
  },
  {
   "cell_type": "markdown",
   "metadata": {},
   "source": [
    "## Activity 3\n",
    "Create a program that prompts the user for a float number and returns the integer portion of the floating number."
   ]
  },
  {
   "cell_type": "code",
   "execution_count": 14,
   "metadata": {},
   "outputs": [
    {
     "name": "stdout",
     "output_type": "stream",
     "text": [
      "265\n"
     ]
    }
   ],
   "source": [
    "# your code here\n",
    "import math\n",
    "decnum = float(input(\"Enter a decimal number\"))\n",
    "num = math.trunc(decnum)\n",
    "print (num)\n"
   ]
  },
  {
   "attachments": {},
   "cell_type": "markdown",
   "metadata": {},
   "source": [
    "## Activity 4\n",
    "Write a program that calculates and displays the current value of an investment for a given initial deposit, interest rate, the number of times interest is calculated per year, and the number of years since the initial deposit.\n",
    "\n",
    "The program should prompt the user for each of the values and use the following formula to calculate the current value of the deposit:\n",
    "\n",
    "    V = P(1 + r/n)^nt\n",
    "    \n",
    "Where each letter represents concepts listed below:\n",
    "* `V`: Value\n",
    "* `P`: Initial deposit\n",
    "* `r`: Interest rate as a fraction (e.g., 0.05)\n",
    "* `n`: Number of times per year interest is calculated\n",
    "* `t`: Number of years since the initial deposit\n",
    "\t\n",
    "\t    \n",
    "The program should show the user the results of the calculation and each of the input values in a meaningful way (so that the user can easily tell what each value represents)."
   ]
  },
  {
   "cell_type": "code",
   "execution_count": 22,
   "metadata": {},
   "outputs": [
    {
     "name": "stdout",
     "output_type": "stream",
     "text": [
      "initial deposit: 1000\n",
      "Interest rate: 0.05\n",
      "Interest calculations per year: 4\n",
      "Number of years before the initial deposit: 3\n",
      "Formula used to calculate value of deposit V = P(1 + r/n)^nt\n",
      "Value of deposit: 1160.7545177229981\n"
     ]
    }
   ],
   "source": [
    "# your code here\n",
    "import math\n",
    "P = int(input(\"Input initial deposit: \"))\n",
    "R = float(input(\"Input interest rate as a fraction e.g. 0.05: \"))\n",
    "N = int(input(\"Number of times interest is calculated\"))\n",
    "T = int(input(\"Number of years before the initial deposit\"))\n",
    "\n",
    "V = P * ((1 + R / N) ** (N * T))\n",
    "\n",
    "print (\"initial deposit: \" + str(P))\n",
    "print (\"Interest rate: \" + str(R))\n",
    "print (\"Interest calculations per year: \" + str(N))\n",
    "print (\"Number of years before the initial deposit: \" + str(T))\n",
    "print (\"Formula used to calculate value of deposit V = P(1 + r/n)^nt\")\n",
    "print (\"Value of deposit: \" + str(V))"
   ]
  },
  {
   "cell_type": "markdown",
   "metadata": {},
   "source": [
    "## Activity 5\n",
    "Write a program that prompts the user for a principal amount, the rate of interest, and the number of days for a loan, and then calculates and returns the simple interest for the life of the loan. Use the formula below:\n",
    "\n",
    "    interest = principal * rate * days / 365"
   ]
  },
  {
   "cell_type": "code",
   "execution_count": 26,
   "metadata": {},
   "outputs": [
    {
     "name": "stdout",
     "output_type": "stream",
     "text": [
      "total simple interest of loan: 12.32876712328767\n"
     ]
    }
   ],
   "source": [
    "# your code here\n",
    "p = float(input(\"Enter the principal ammount: \"))\n",
    "r = float(input(\"Enter the rate of interest: \"))\n",
    "d = int(input(\"Enter the lenght of loan in days: \"))\n",
    "i = p * r * d / 365\n",
    "\n",
    "print(\"total simple interest of loan: \" + str(i))"
   ]
  },
  {
   "cell_type": "markdown",
   "metadata": {},
   "source": [
    "## Activity 6\n",
    "Create a program that displays three statements that evaluate to True and three statements that evaluate to False.\n",
    "\n",
    "Example:\n",
    "\n",
    "    a = 0\n",
    "    b = 1 \n",
    "    \n",
    "    Output: a < b = True"
   ]
  },
  {
   "cell_type": "code",
   "execution_count": 32,
   "metadata": {},
   "outputs": [
    {
     "name": "stdout",
     "output_type": "stream",
     "text": [
      "True\n",
      "True\n",
      "True\n",
      "False\n",
      "False\n",
      "False\n"
     ]
    }
   ],
   "source": [
    "# your code here\n",
    "\n",
    "print(1<2)\n",
    "print(117==117)\n",
    "print(\"Name\" != \"name\")\n",
    "\n",
    "print(1>2)\n",
    "print(117!=117)\n",
    "print(\"Name\" == \"name\")\n",
    "\n"
   ]
  },
  {
   "cell_type": "markdown",
   "metadata": {},
   "source": [
    "## Activity 7\n",
    "Create a program that prompts the user for a number and calculates the following:\n",
    "* The boolean of the number entered\n",
    "* The binary equivalent of the number entered\n",
    "* The square root of the number entered\n",
    "\n",
    "The program should display the following to the user:\n",
    "* The number the user entered, in a phrase like, \"You selected `value`.\"\n",
    "* The boolean of the number, in a phrase like, \"The boolean of your number is `value`.\"\n",
    "* The binary equivalent of the number, in a phrase like, \"The binary equivalent of your number is `value`.\"\n",
    "* The square root of the number, with the value rounded to three decimal places, in a phrase like, \"The square root of your number is `value`.\""
   ]
  },
  {
   "cell_type": "code",
   "execution_count": 60,
   "metadata": {},
   "outputs": [
    {
     "name": "stdout",
     "output_type": "stream",
     "text": [
      "You selected 16.\n",
      "The boolean of your number is True.\n",
      "The binary equivalent of your number is 0b10000.\n",
      "The square root of 16 is 4.0.\n"
     ]
    }
   ],
   "source": [
    "# your code here\n",
    "import math\n",
    "value = input(\"Enter a number\")\n",
    "intvalue = int(value)\n",
    "rootvalue = math.sqrt(intvalue)\n",
    "\n",
    "print(\"You selected \" + str(value) + \".\")\n",
    "print(\"The boolean of your number is \" + str(bool(value)) + \".\")\n",
    "print(\"The binary equivalent of your number is \" + str(bin(intvalue)) + \".\")\n",
    "print(f\"The square root of \" + str(value) + \" is \" + str(round(rootvalue, 3)) + \".\")"
   ]
  },
  {
   "cell_type": "markdown",
   "metadata": {},
   "source": [
    "## Activity 8\n",
    "Create a program that completes the following tasks:\n",
    "1. Prompt the user for a series of five integers. \n",
    "    * The user must be asked for five numbers.\n",
    "1. After the fifth entry, stop prompting for values and calculate the following: \n",
    "    * The product of the integers\n",
    "    * The average of the integers\n",
    "    * The sum of the integers\n",
    "1. After performing the calculations, display the following to the user: \n",
    "    * The values the user entered\n",
    "    * The values of the calculations, using a phrase that identifies the value"
   ]
  },
  {
   "cell_type": "code",
   "execution_count": 65,
   "metadata": {},
   "outputs": [
    {
     "name": "stdout",
     "output_type": "stream",
     "text": [
      "You entered: 1 2 3 4 5\n",
      "The product of the numbers is 120\n",
      "The sum of the numbers is 15\n",
      "The average of the numbers is 75\n"
     ]
    }
   ],
   "source": [
    "# your code here\n",
    "\n",
    "Num1 = int(input(\"Enter a number\"))\n",
    "Num2 = int(input(\"Enter another number\"))\n",
    "Num3 = int(input(\"Enter another number\"))\n",
    "Num4 = int(input(\"Enter another number\"))\n",
    "Num5 = int(input(\"Enter another number\"))\n",
    "\n",
    "prod = Num1 * Num2 * Num3 * Num4 * Num5\n",
    "add = Num1 + Num2 + Num3 + Num4 + Num5\n",
    "avr = (Num1 + Num2 + Num3 + Num4 + Num5) * 5\n",
    "print(\"You entered: \" + str(Num1) + \" \" + str(Num2) + \" \" + str(Num3) + \" \" + str(Num4) + \" \" + str(Num5))\n",
    "print(\"The product of the numbers is \" + str(prod))\n",
    "print(\"The sum of the numbers is \" + str(add))\n",
    "print(\"The average of the numbers is \" + str(avr))\n"
   ]
  },
  {
   "cell_type": "markdown",
   "metadata": {},
   "source": [
    "## Activity 9\n",
    "1. Start with a street address that includes a building/house number, the name of the street, and the type of street (Street, Avenue, Boulevard, etc.). \n",
    "    * You can use any address you wish and abbreviations are acceptable.\n",
    "    * For example: 25 Main Street\n",
    "1. Display the full address to the user.\n",
    "1. Display the house number only in a phrase like, \"The building or house number is 25.\"\n",
    "1. Display the street name in a phrase like, \"The street name is Main Street.\""
   ]
  },
  {
   "cell_type": "code",
   "execution_count": 70,
   "metadata": {},
   "outputs": [
    {
     "name": "stdout",
     "output_type": "stream",
     "text": [
      "100 Gaddesden Crescent\n",
      "The building or house number is: 100\n",
      "The street name is: Gaddesden Crescent.\n"
     ]
    }
   ],
   "source": [
    "# your code here\n",
    "\n",
    "Address = (\"100 Gaddesden Crescent\")\n",
    "\n",
    "print(Address)\n",
    "\n",
    "Address = Address.split()\n",
    "\n",
    "print(\"The building or house number is: \" + str(Address[0]))\n",
    "print(\"The street name is: \" + str(Address[1]) + \" \" + str(Address[2]) + \".\")\n"
   ]
  }
 ],
 "metadata": {
  "kernelspec": {
   "display_name": "Python 3",
   "language": "python",
   "name": "python3"
  },
  "language_info": {
   "codemirror_mode": {
    "name": "ipython",
    "version": 3
   },
   "file_extension": ".py",
   "mimetype": "text/x-python",
   "name": "python",
   "nbconvert_exporter": "python",
   "pygments_lexer": "ipython3",
   "version": "3.11.2"
  }
 },
 "nbformat": 4,
 "nbformat_minor": 2
}
