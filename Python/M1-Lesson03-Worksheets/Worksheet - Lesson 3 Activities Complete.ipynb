{
 "cells": [
  {
   "cell_type": "markdown",
   "metadata": {},
   "source": [
    "# Lesson 3 Activities\n",
    "The following activities are provided to allow you to demonstrate the objectives for this lesson:\n",
    "* Use an `if` statement to determine the outcome of a program.\n",
    "* Use an `if-else` statement to define two potential outcomes.\n",
    "* Use nested `if` statements to define more than two potential outcomes.\n",
    "\n",
    "Complete each activity and make sure that the code runs without errors before completing the next activity."
   ]
  },
  {
   "cell_type": "markdown",
   "metadata": {},
   "source": [
    "## Activity 1\n",
    "Write a program that asks the user how much money they have in their wallet. The program should output \"You're rich!\" if the user inputs 20 or more and \"You're broke!\" if the input is less than 20."
   ]
  },
  {
   "cell_type": "code",
   "execution_count": 3,
   "metadata": {},
   "outputs": [
    {
     "name": "stdout",
     "output_type": "stream",
     "text": [
      "You're Rich!\n"
     ]
    }
   ],
   "source": [
    "# your code here\n",
    "\n",
    "MTotal = float(input(\"How much money do you have in your wallet?\"))\n",
    "\n",
    "if ( MTotal >= 20 ):\n",
    "    print(\"You're Rich!\")\n",
    "else:\n",
    "    print(\"You're Broke!\")\n"
   ]
  },
  {
   "cell_type": "markdown",
   "metadata": {},
   "source": [
    "## Activity 2\n",
    "Write a program that performs the following steps:\n",
    "1. Ask the user if they own any cats. (Yes/No answer)\n",
    "1. Ask the user if they own any dogs. (Yes/No answer)\n",
    "1. If the user responses indicate that they have both cats and dogs, output: \"You must really love pets!\"\n",
    "1. Otherwise, the output should be: \"Maybe you need more pets.\"\n",
    "\n",
    "The last step will apply if the user has cats but not dogs, dogs but not cats, and neither cats nor dogs.\n",
    "\n",
    "Write two different versions of this program: one that uses only `if` statements and another that uses `if-else` statements."
   ]
  },
  {
   "cell_type": "code",
   "execution_count": 12,
   "metadata": {},
   "outputs": [
    {
     "name": "stdout",
     "output_type": "stream",
     "text": [
      "Maybe you need more pets.\n"
     ]
    }
   ],
   "source": [
    "# program using only if statements\n",
    "Cats = str(input(\"Do you own any cats? (yes/no) \"))\n",
    "Dogs = str(input(\"Do you own any Dogs? (yes/no) \"))\n",
    "CatCheck1 = (Cats == \"y\")\n",
    "DogCheck2 = (Dogs == \"y\")\n",
    "if (CatCheck1 == True) and (DogCheck2 == True):\n",
    "    print(\"You must really love pets!\")\n",
    "if (CatCheck1 == False) and (DogCheck2 == False):\n",
    "    print(\"Maybe you need more pets.\")\n",
    "if (CatCheck1 == False) and (DogCheck2 == True):\n",
    "    print(\"Maybe you need more pets.\")\n",
    "if (CatCheck1 == True) and (DogCheck2 == False):\n",
    "    print(\"Maybe you need more pets.\")\n"
   ]
  },
  {
   "cell_type": "code",
   "execution_count": 14,
   "metadata": {},
   "outputs": [
    {
     "name": "stdout",
     "output_type": "stream",
     "text": [
      "You must really love pets!\n"
     ]
    }
   ],
   "source": [
    "# program using if-else statements\n",
    "Cats = str(input(\"Do you own any cats? (yes/no) \"))\n",
    "Dogs = str(input(\"Do you own any Dogs? (yes/no) \"))\n",
    "CatCheck1 = (Cats == \"y\")\n",
    "DogCheck2 = (Dogs == \"y\")\n",
    "if (CatCheck1 == True) and (DogCheck2 == True):\n",
    "    print(\"You must really love pets!\")\n",
    "else:\n",
    "    print(\"Maybe you need more pets.\")"
   ]
  },
  {
   "cell_type": "markdown",
   "metadata": {},
   "source": [
    "## Activity 3\n",
    "Create a computer program that asks the user a few questions to which the user will respond either True or False. Display all the questions with the correct answer and the user's answers at the end of the program, along with the user's the correct response rate (number of questions answered correctly/number of questions)."
   ]
  },
  {
   "cell_type": "code",
   "execution_count": 25,
   "metadata": {},
   "outputs": [
    {
     "name": "stdout",
     "output_type": "stream",
     "text": [
      "# 1. Python is a compiled language. (T/F)\n",
      "Incorrect.\n",
      "# 2. Python is an interpreted language. (T/F)\n",
      "Incorrect.\n",
      "# 3. Python is a dynamically typed language. (T/F)\n",
      "Incorrect.\n",
      "# 4. Python is a statically typed language. (T/F)\n",
      "Incorrect.\n",
      "Your score is: 0\n",
      "Here are the questions and answers:\n",
      "# 1. Python is a compiled language. (T/F)\n",
      "Answer: F\n",
      "# 2. Python is an interpreted language. (T/F)\n",
      "Answer: T\n",
      "# 3. Python is a dynamically typed language. (T/F)\n",
      "Answer: T\n",
      "# 4. Python is a statically typed language. (T/F)\n",
      "Answer: F\n"
     ]
    }
   ],
   "source": [
    "# your code here\n",
    "Score = 0\n",
    "Answers = [\"F\",\"T\",\"T\",\"F\"]\n",
    "UserAnswers = []\n",
    "Questions = [\"# 1. Python is a compiled language. (T/F)\",\n",
    "             \"# 2. Python is an interpreted language. (T/F)\",\n",
    "             \"# 3. Python is a dynamically typed language. (T/F)\",\n",
    "             \"# 4. Python is a statically typed language. (T/F)\"]\n",
    "for Question in Questions:\n",
    "    print(Question)\n",
    "    UserAnswers.append(input())\n",
    "    if UserAnswers[-1] == Answers[Questions.index(Question)]:\n",
    "        print(\"Correct!\")\n",
    "        Score += 1\n",
    "    else:\n",
    "        print(\"Incorrect.\")\n",
    "print(\"Your score is: \"+ str(Score))\n",
    "print(\"Here are the questions and answers:\")\n",
    "for Question in Questions:\n",
    "    print(Question)\n",
    "    print(\"Answer: \"+str(Answers[Questions.index(Question)]))\n",
    "\n"
   ]
  },
  {
   "cell_type": "markdown",
   "metadata": {},
   "source": [
    "## Activity 4\n",
    "Write a program that uses `elif` to produce five different possible outcomes based on a single user input.\n",
    "1. Ask the user what season it is (fall, winter, spring, or summer).\n",
    "1. If the user enters fall, output: \"I bet the leaves are pretty there!\"\n",
    "1. If the user enters winter, output: \"I hope you're ready for snow!\"\n",
    "1. If the user enters spring, output: \"I can smell the flowers!\"\n",
    "1. If the user enters summer, output: \"Make sure your AC is working!\"\n",
    "1. If the user enters a value that does not correspond to a season, output: \"I don't recognize that season.\"\n",
    "\n",
    "The user should be able to enter the name of the season in any case and the program will still work.\n",
    "\n",
    "**Challenge**: After you have the program working as describe above, modify the program so that the user can enter either \"fall\" or \"autumn\" and get the same result."
   ]
  },
  {
   "cell_type": "code",
   "execution_count": 1,
   "metadata": {},
   "outputs": [],
   "source": [
    "# your code here\n",
    "Season = str(input(\"What Season is it? (Fall, Winter, Spring, or Summer)\"))\n",
    "\n",
    "if Season == \"Fall\":\n",
    "    print(\"I bet the leaves are pretty there!\")\n",
    "elif Season == \"Winter\":\n",
    "    print(\"I hope you're ready for snow!\")\n",
    "elif Season == \"Spring\":\n",
    "    print(\"I can smell the flowers!\")\n",
    "elif Season == \"Summer\":\n",
    "    print(\"Make sure your ac is working!\")\n",
    "else:\n",
    "    print(\"I dont recognise that season!\")"
   ]
  }
 ],
 "metadata": {
  "kernelspec": {
   "display_name": "Python 3",
   "language": "python",
   "name": "python3"
  },
  "language_info": {
   "codemirror_mode": {
    "name": "ipython",
    "version": 3
   },
   "file_extension": ".py",
   "mimetype": "text/x-python",
   "name": "python",
   "nbconvert_exporter": "python",
   "pygments_lexer": "ipython3",
   "version": "3.11.2"
  }
 },
 "nbformat": 4,
 "nbformat_minor": 2
}
